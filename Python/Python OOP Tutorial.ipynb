{
 "cells": [
  {
   "cell_type": "code",
   "execution_count": 1,
   "metadata": {},
   "outputs": [],
   "source": [
    "x=5\n",
    "y='string'"
   ]
  },
  {
   "cell_type": "code",
   "execution_count": 2,
   "metadata": {},
   "outputs": [
    {
     "data": {
      "text/plain": [
       "int"
      ]
     },
     "execution_count": 2,
     "metadata": {},
     "output_type": "execute_result"
    }
   ],
   "source": [
    "type(x)"
   ]
  },
  {
   "cell_type": "code",
   "execution_count": 3,
   "metadata": {},
   "outputs": [
    {
     "data": {
      "text/plain": [
       "str"
      ]
     },
     "execution_count": 3,
     "metadata": {},
     "output_type": "execute_result"
    }
   ],
   "source": [
    "type(y)"
   ]
  },
  {
   "cell_type": "code",
   "execution_count": 4,
   "metadata": {},
   "outputs": [
    {
     "data": {
      "text/plain": [
       "'string'"
      ]
     },
     "execution_count": 4,
     "metadata": {},
     "output_type": "execute_result"
    }
   ],
   "source": [
    "y.strip()"
   ]
  },
  {
   "cell_type": "code",
   "execution_count": 31,
   "metadata": {},
   "outputs": [
    {
     "name": "stdout",
     "output_type": "stream",
     "text": [
      "Hi! Tim 20\n",
      "5\n",
      "[1, 3, 4]\n",
      "70\n"
     ]
    }
   ],
   "source": [
    "class Dog(object):\n",
    "    def __init__(self,name,age):\n",
    "        self.name=name\n",
    "        self.age=age\n",
    "        self.li=[1,3,4]\n",
    "\n",
    "    def speak(self):\n",
    "        print(\"Hi!\",self.name,self.age)\n",
    "        \n",
    "    def change_age(self,age):\n",
    "        self.age=age\n",
    "        \n",
    "    def add_weight(self,weight):\n",
    "        self.weight=weight\n",
    "        \n",
    "    def talk(self):\n",
    "        print('Bark!')\n",
    "\n",
    "tim=Dog('Tim',20)  \n",
    "tim.speak()\n",
    "tim.change_age(5)\n",
    "print(tim.age)\n",
    "print(tim.li)\n",
    "tim.add_weight(70)\n",
    "print(tim.weight)"
   ]
  },
  {
   "cell_type": "code",
   "execution_count": 36,
   "metadata": {},
   "outputs": [
    {
     "name": "stdout",
     "output_type": "stream",
     "text": [
      "Hi! teech 5\n",
      "Meow\n",
      "Bark!\n",
      "Hi! teech 5\n"
     ]
    }
   ],
   "source": [
    "class Cat(Dog):\n",
    "    def __init__(self,name,age,color):\n",
    "        super().__init__(name,age)\n",
    "        self.color=color\n",
    "        self.name='teech'\n",
    "       \n",
    "    def talk(self):\n",
    "        print('Meow')\n",
    "\n",
    "        \n",
    "tim=Cat('tim',5,'blue')\n",
    "tim.speak()\n",
    "tim.talk()\n",
    "\n",
    "jim=Dog('jim',70)\n",
    "jim.talk()\n",
    "\n",
    "tim.speak()"
   ]
  },
  {
   "cell_type": "code",
   "execution_count": 39,
   "metadata": {},
   "outputs": [],
   "source": [
    "class Vehicle():\n",
    "    def __init__(self,price,gas,color):\n",
    "        self.prive=price\n",
    "        self.gas=gas\n",
    "        self.color=color\n",
    "    \n",
    "    def fillUpTank(self):\n",
    "        self.gas=100\n",
    "        \n",
    "    def emptyTan(self):\n",
    "        self.gas=0\n",
    "        \n",
    "    def gasLeft(self):\n",
    "        return self.gas\n",
    "    \n",
    "    \n",
    "class Car(Vehicle):\n",
    "    def __init__(self,price,gas,color,speed):\n",
    "        super().__init__(price,gas,color)\n",
    "        self.speed=speed\n",
    "        \n",
    "    def beep(self):\n",
    "        print('Beep Beep!')\n",
    "        \n",
    "        \n",
    "        \n",
    "class Truck(Car):\n",
    "    def __init__(self,price,gas,color,tires):\n",
    "        super().__init__(price,gas,color)\n",
    "        self.tires=tires\n",
    "        \n",
    "    def beep(self):\n",
    "        print('Honk Honk!')     "
   ]
  },
  {
   "cell_type": "code",
   "execution_count": 58,
   "metadata": {},
   "outputs": [
    {
     "name": "stdout",
     "output_type": "stream",
     "text": [
      "(6,6) (-3,-3) (9,0)\n",
      "False\n",
      "True\n",
      "True\n"
     ]
    }
   ],
   "source": [
    "class Point():\n",
    "    def __init__(self,x=0,y=0):\n",
    "        self.x=x\n",
    "        self.y=y\n",
    "        self.coords=(self.x,self.y)\n",
    "        \n",
    "    def move(self,x,y):\n",
    "        self.x +=x\n",
    "        self.y +=y\n",
    "   \n",
    "    def __add__(self,p):\n",
    "        return Point(self.x+p.x,self.y+p.y)\n",
    "\n",
    "    def __sub__(self,p):\n",
    "        return Point(self.x-p.x,self.y-p.y)\n",
    "\n",
    "    def __mul__(self,p):\n",
    "        return Point(self.x*p.x+self.y*p.y)\n",
    "    \n",
    "    def length(self):\n",
    "        import math\n",
    "        return math.sqrt(self.x*2+self.y**2)\n",
    "    \n",
    "    def __gt__(self,p):\n",
    "        return self.length()>p.length()\n",
    "        \n",
    "    def __ge__(self,p):\n",
    "        return self.length()>=p.length()\n",
    "        \n",
    "        \n",
    "    def __lt__(self,p):\n",
    "        return self.length()<p.length()\n",
    "        \n",
    "        \n",
    "    def __ls__(self,p):\n",
    "        return self.length()<=p.length()\n",
    "        \n",
    "        \n",
    "    def __eq__(self,p):\n",
    "        return self.x==p.x and self.y==p.y\n",
    "        \n",
    "        \n",
    "       \n",
    "\n",
    "    def __str__(self):\n",
    "        return \"(\" + str(self.x) + \",\" + str(self.y) + \")\"\n",
    "    \n",
    "    \n",
    "\n",
    "p1=Point(3,4)\n",
    "p2=Point(3,2)\n",
    "p3=Point(1,3)\n",
    "p4=Point(0,1)\n",
    "p5=p1+p2\n",
    "p6=p4-p1\n",
    "p7=p2*p3\n",
    "\n",
    "print(p5,p6,p7)\n",
    "\n",
    "print(p1==p2)\n",
    "print(p1>p2)\n",
    "print(p4<=p5)"
   ]
  },
  {
   "cell_type": "code",
   "execution_count": 73,
   "metadata": {},
   "outputs": [
    {
     "name": "stdout",
     "output_type": "stream",
     "text": [
      "[<__main__.Dog object at 0x000002935A209E50>, <__main__.Dog object at 0x000002935A209280>]\n",
      "[<__main__.Dog object at 0x000002935A209E50>, <__main__.Dog object at 0x000002935A209280>]\n",
      "Bark!\n",
      "Bark!\n",
      "Bark!\n",
      "Bark!\n",
      "Bark!\n",
      "2\n"
     ]
    }
   ],
   "source": [
    "class Dog:\n",
    "    dogs=[]\n",
    "    \n",
    "    def __init__(self,name):\n",
    "        self.name=name\n",
    "        self.dogs.append(self)\n",
    "        \n",
    "        \n",
    "    @classmethod\n",
    "    def num_dogs(cls):\n",
    "        return len(cls.dogs)\n",
    "        \n",
    "    @staticmethod\n",
    "    def bark(n):\n",
    "        for _ in range(n):\n",
    "            print(\"Bark!\")\n",
    "            \n",
    "                           \n",
    "class Math:\n",
    "    @staticmethod\n",
    "    def add(x,x2):\n",
    "        return x*x2\n",
    "                 \n",
    "tim=Dog(\"tim\")s\n",
    "jim=Dog(\"Jim\")\n",
    "print(Dog.dogs)\n",
    "print(tim.dogs)\n",
    "\n",
    "Dog.bark(5)\n",
    "print(Dog.num_dogs())"
   ]
  },
  {
   "cell_type": "code",
   "execution_count": null,
   "metadata": {},
   "outputs": [],
   "source": [
    "class _Private:\n",
    "    def __init__(self,name):\n",
    "        self.name=name\n",
    "        \n",
    "        \n",
    "class NotPrivate:\n",
    "    def __init__(self,name):\n",
    "        self.name=name\n",
    "        self.priv=_Private(name)\n",
    "        \n",
    "    def _display(self):\n",
    "        print(\"Hello\")\n",
    "        \n",
    "    def display(self):\n",
    "        print(\"Hi\")\n",
    "        \n",
    "        \n",
    "        \n",
    "        "
   ]
  }
 ],
 "metadata": {
  "kernelspec": {
   "display_name": "Python 3",
   "language": "python",
   "name": "python3"
  },
  "language_info": {
   "codemirror_mode": {
    "name": "ipython",
    "version": 3
   },
   "file_extension": ".py",
   "mimetype": "text/x-python",
   "name": "python",
   "nbconvert_exporter": "python",
   "pygments_lexer": "ipython3",
   "version": "3.8.5"
  }
 },
 "nbformat": 4,
 "nbformat_minor": 4
}
